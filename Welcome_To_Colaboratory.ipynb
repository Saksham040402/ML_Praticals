{
  "cells": [
    {
      "cell_type": "markdown",
      "metadata": {
        "id": "view-in-github",
        "colab_type": "text"
      },
      "source": [
        "<a href=\"https://colab.research.google.com/github/Saksham040402/ML_Praticals/blob/main/Welcome_To_Colaboratory.ipynb\" target=\"_parent\"><img src=\"https://colab.research.google.com/assets/colab-badge.svg\" alt=\"Open In Colab\"/></a>"
      ]
    },
    {
      "cell_type": "code",
      "source": [
        "from sklearn.datasets import load_iris;\n",
        "iris=load_iris();\n",
        "data=iris.data;\n",
        "import pandas as pd;\n",
        "x=pd.DataFrame(data=data,columns=iris.feature_names)\n",
        "# print(x)\n",
        "y = pd.DataFrame(data=iris.target)\n",
        "y.shape\n",
        "# print(y)\n",
        "from sklearn.model_selection import train_test_split\n",
        "x_train,x_test,y_train,y_test = train_test_split(x,y,test_size =0.4)\n",
        "\n",
        "\n",
        "print(x_train.shape)\n",
        "print(y_train.shape)\n",
        "\n",
        "print(x_test.shape)\n",
        "print(y_test.shape)\n",
        "\n",
        "from sklearn.tree import DecisionTreeClassifier\n",
        "\n",
        "dt = DecisionTreeClassifier(max_depth=7, random_state=1)\n",
        "\n",
        "\n",
        "\n",
        "dt.fit(x_train,y_train)\n",
        "\n",
        "\n",
        "\n",
        "y_pred = dt.predict(x_test)\n",
        "y_pred\n",
        "\n",
        "\n",
        "from sklearn.metrics import accuracy_score,confusion_matrix,classification_report\n",
        "print(accuracy_score(y_pred,y_test))\n",
        "print(confusion_matrix(y_pred,y_test))\n",
        "print(classification_report(y_pred,y_test))\n"
      ],
      "metadata": {
        "colab": {
          "base_uri": "https://localhost:8080/"
        },
        "id": "TEGR6nJSEyKD",
        "outputId": "d9862e9e-1c27-44ae-bdd1-7cde7d14acd6"
      },
      "execution_count": null,
      "outputs": [
        {
          "output_type": "stream",
          "name": "stdout",
          "text": [
            "(90, 4)\n",
            "(90, 1)\n",
            "(60, 4)\n",
            "(60, 1)\n",
            "0.9333333333333333\n",
            "[[21  0  0]\n",
            " [ 0 19  0]\n",
            " [ 0  4 16]]\n",
            "              precision    recall  f1-score   support\n",
            "\n",
            "           0       1.00      1.00      1.00        21\n",
            "           1       0.83      1.00      0.90        19\n",
            "           2       1.00      0.80      0.89        20\n",
            "\n",
            "    accuracy                           0.93        60\n",
            "   macro avg       0.94      0.93      0.93        60\n",
            "weighted avg       0.94      0.93      0.93        60\n",
            "\n"
          ]
        }
      ]
    },
    {
      "cell_type": "code",
      "source": [],
      "metadata": {
        "id": "9CgqOWL8GH5H"
      },
      "execution_count": null,
      "outputs": []
    },
    {
      "cell_type": "code",
      "source": [
        "import pandas as pd\n",
        "\n",
        "df=pd.read_csv(\"diabetes.csv\") \n",
        "df.head()\n",
        "X=df.drop(columns='Outcome')\n",
        "Y=df[['Outcome']]\n",
        "from sklearn.model_selection import train_test_split \n",
        "X_train,X_test,Y_train,Y_test=train_test_split(X,Y,test_size=.1,random_state=33) \n",
        "from sklearn.naive_bayes import GaussianNB\n",
        "NB=GaussianNB(); \n",
        "NB.fit(X_train,Y_train); \n",
        "y_predict=NB.predict(X_test); \n",
        "from sklearn.metrics import accuracy_score,confusion_matrix \n",
        "\n",
        "acc=accuracy_score(y_predict,Y_test); \n",
        "\n",
        "con=confusion_matrix(y_predict,Y_test); \n",
        "\n",
        "print(acc); \n",
        "\n",
        "print(con);"
      ],
      "metadata": {
        "colab": {
          "base_uri": "https://localhost:8080/"
        },
        "id": "P5vB81wYFno_",
        "outputId": "293c9aa3-4f84-4eb2-ac1d-454cebd95486"
      },
      "execution_count": null,
      "outputs": [
        {
          "output_type": "stream",
          "name": "stdout",
          "text": [
            "0.7402597402597403\n",
            "[[39 11]\n",
            " [ 9 18]]\n"
          ]
        },
        {
          "output_type": "stream",
          "name": "stderr",
          "text": [
            "/usr/local/lib/python3.10/dist-packages/sklearn/utils/validation.py:1143: DataConversionWarning: A column-vector y was passed when a 1d array was expected. Please change the shape of y to (n_samples, ), for example using ravel().\n",
            "  y = column_or_1d(y, warn=True)\n"
          ]
        }
      ]
    },
    {
      "cell_type": "code",
      "source": [
        "from sklearn.datasets import load_iris;\n",
        "iris=load_iris();\n",
        "data=iris.data;\n",
        "import pandas as pd;\n",
        "x=pd.DataFrame(data=data,columns=iris.feature_names)\n",
        "# print(x)\n",
        "y = pd.DataFrame(data=iris.target)\n",
        "y.shape\n",
        "# print(y)\n",
        "from sklearn.model_selection import train_test_split\n",
        "x_train,x_test,y_train,y_test = train_test_split(x,y,test_size =0.4)\n",
        "\n",
        "from sklearn.neighbors import KNeighborsClassifier\n",
        "knn = KNeighborsClassifier(n_neighbors=4)\n",
        "\n",
        "\n",
        "\n",
        "knn.fit(x_train,y_train)\n",
        "\n",
        "\n",
        "\n",
        "y_pred = knn.predict(x_test)\n",
        "y_pred\n",
        "\n",
        "\n",
        "\n",
        "\n",
        "from sklearn.metrics import accuracy_score,confusion_matrix\n",
        "print(accuracy_score(y_pred,y_test))\n",
        "print(confusion_matrix(y_pred,y_test))"
      ],
      "metadata": {
        "colab": {
          "base_uri": "https://localhost:8080/"
        },
        "id": "_TIggMYNF23_",
        "outputId": "63b44b77-29a8-4463-a06a-edc900a790d3"
      },
      "execution_count": null,
      "outputs": [
        {
          "output_type": "stream",
          "name": "stdout",
          "text": [
            "0.9666666666666667\n",
            "[[16  0  0]\n",
            " [ 0 24  1]\n",
            " [ 0  1 18]]\n"
          ]
        },
        {
          "output_type": "stream",
          "name": "stderr",
          "text": [
            "/usr/local/lib/python3.10/dist-packages/sklearn/neighbors/_classification.py:215: DataConversionWarning: A column-vector y was passed when a 1d array was expected. Please change the shape of y to (n_samples,), for example using ravel().\n",
            "  return self._fit(X, y)\n"
          ]
        }
      ]
    },
    {
      "cell_type": "code",
      "source": [
        "from sklearn.datasets import load_iris;\n",
        "import numpy as np\n",
        "iris=load_iris();\n",
        "data=iris.data;\n",
        "import pandas as pd;\n",
        "x=pd.DataFrame(data=data,columns=iris.feature_names)\n",
        "# print(x)\n",
        "y = pd.DataFrame(data=iris.target)\n",
        "y.shape\n",
        "# print(y)\n",
        "from sklearn.model_selection import train_test_split\n",
        "x_train,x_test,y_train,y_test = train_test_split(x,y,test_size =0.4)\n",
        "\n",
        "from sklearn.linear_model import LinearRegression\n",
        "\n",
        "knn = LinearRegression()\n",
        "\n",
        "\n",
        "\n",
        "knn.fit(x_train,y_train)\n",
        "\n",
        "\n",
        "\n",
        "y_pred = np.argmax(knn.predict(x_test), axis=-1)\n",
        "y_pred\n",
        "\n",
        "from sklearn.metrics import accuracy_score,confusion_matrix\n",
        "print(accuracy_score(y_pred,y_test))\n",
        "print(confusion_matrix(y_pred,y_test))\n"
      ],
      "metadata": {
        "colab": {
          "base_uri": "https://localhost:8080/"
        },
        "id": "cKOFlYpIGxTm",
        "outputId": "7c2f4d87-55e1-42b4-a13c-d0740e5a5ce1"
      },
      "execution_count": null,
      "outputs": [
        {
          "output_type": "stream",
          "name": "stdout",
          "text": [
            "0.4666666666666667\n",
            "[[28 20 12]\n",
            " [ 0  0  0]\n",
            " [ 0  0  0]]\n"
          ]
        }
      ]
    }
  ],
  "metadata": {
    "colab": {
      "name": "Welcome To Colaboratory",
      "provenance": [],
      "include_colab_link": true
    },
    "kernelspec": {
      "display_name": "Python 3",
      "name": "python3"
    }
  },
  "nbformat": 4,
  "nbformat_minor": 0
}